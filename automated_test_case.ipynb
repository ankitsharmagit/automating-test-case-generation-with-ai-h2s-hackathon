{
 "cells": [
  {
   "cell_type": "code",
   "execution_count": 18,
   "id": "e91e023d-1c0a-42fe-bc63-fa2b2a5fb972",
   "metadata": {},
   "outputs": [],
   "source": [
    "# !pip install google-cloud-aiplatform gradio pandas\n",
    "# !pip install pymupdf pdfplumber python-docx xmltodict lxml beautifulsoup4\n",
    "# !pip install langchain_google_vertexai langchain\n"
   ]
  },
  {
   "cell_type": "markdown",
   "id": "3373abd7-fc5e-44ab-a36b-2451ed325828",
   "metadata": {
    "tags": []
   },
   "source": [
    "# Parse Documents"
   ]
  },
  {
   "cell_type": "code",
   "execution_count": 5,
   "id": "b578bf30-79b9-4d0d-8cd4-b9f35f8b6f45",
   "metadata": {
    "tags": []
   },
   "outputs": [
    {
     "name": "stdout",
     "output_type": "stream",
     "text": [
      "\n",
      "--- data/EHR-reqs.docx ---\n",
      "1. Problem-oriented EHR requirements SL-07 version 9\n",
      "2. IT developers and IT consultants often ask for an exemplary requirements specification as a starting point in their own project. This document is such a specification. It is a template filled out with a complex example: Requirements for an Electronic Health Record system (EHR). Only a few points had to be illustrated with examples from other areas. Large parts of the specification may be reused in other projects. Parts that are too special for reuse are shown in blue.\n",
      "3. All the requirements are written in tables. Column 1 is the customer's demands. Column 2 is his example solution and later the supplier's proposed solution. There is a contract that matches the requirements. Requirements template, contract, requirements and supplier’s proposal for real projects are available here: http://www.itu.dk/people/slauesen/SorenReqs.html#SL-07\n",
      "4. You may freely use the template as long as the source and copyright notice are clearly stated, for instance as in the footer of the next page. Copy this document, delete the first page, and adjust the rest to your project. Blue parts should always be replaced with something else - or deleted. Parts with yellow background are warnings or alternatives. Other parts may often be reused. The guide to the template and the contract are published as a booklet:\n",
      "5. Soren Lauesen: Problem-oriented requirements SL-07 – Guide and contract. It is available on Amazon and on the author's web site: http://www.itu.dk/people/slauesen/SorenReqs.html#SL-07 The guide comments the template page by page, explains why the requirements are stated as they are, what to avoid, how to elicit and test the requirements, and how it relates to the contract.\n",
      "\n",
      "--- data/Common_InsuranceReqs_FINAL.pdf ---\n",
      "1. A guide to common This work is licensed under the Creative Commons Attribution-ShareAlike 4.0 International License (CC BY-SA 4.0). To view a copy of this license, visit https://creativecommons.org/licenses/by-sa/4.0/legalcode. The content in this document may be freely used in accordance with this license provided the material is accompanied by the following attribution: A Guide to Common Requirements for National Health Insurance Information Systems\n",
      "2. , Copyright © 2019, Joint Learning Network for Universal Health Coverage, PATH. Products and company names mentioned herein may be the trademarks of their respective owners. If translated or used for education purposes, please contact the JLN at jln@msh.org so we may have a record of its use. This project was supported through a grant from the Bill & Melinda Gates Foundation.\n",
      "3. Acknowledgments ........................................................................................................ 4 Preface ............................................................................................................................5 Introduction. ......................................................................................................................6\n",
      "4. CreAting common requirements ...................................................................................7 Using the Collaborative Requirements Development Methodology ......................7 Organizing the work. .....................................................................................................7 HeAlth system domAin ................................................................................................7\n",
      "5. HeAlth insurAnce Process frAmeworks .......................................................................9 Common business processes for health insurance ..................................................11 Business Process cAtAlog ..........................................................................................11 Activity or tAsk flow diAgrAms ................................................................................ 15\n"
     ]
    }
   ],
   "source": [
    "import importlib\n",
    "import batch_parser\n",
    "importlib.reload(batch_parser)\n",
    "\n",
    "from batch_parser import BatchParser\n",
    "\n",
    "\n",
    "# Initialize parser for \"data/\" folder\n",
    "parser = BatchParser(data_folder=\"data\")\n",
    "\n",
    "# Parse all files in data/ and subfolders\n",
    "parsed_results = parser.parse_batch()\n",
    "\n",
    "# Show parsed results\n",
    "for fname, chunks in parsed_results.items():\n",
    "    print(f\"\\n--- {fname} ---\")\n",
    "    for i, chunk in enumerate(chunks[:5]):  # show first 5 chunks\n",
    "        print(f\"{i+1}. {chunk}\")\n"
   ]
  },
  {
   "cell_type": "markdown",
   "id": "bde56cb8-1f4c-4749-987a-5a901b848f68",
   "metadata": {
    "tags": []
   },
   "source": [
    "## BigQuery Vector Search "
   ]
  },
  {
   "cell_type": "markdown",
   "id": "41e4c95d-e88c-41d9-bfdf-62eccc6cf801",
   "metadata": {
    "tags": []
   },
   "source": [
    "- Embeds + stores Parsed requirements in BigQuery\n",
    "- Runs a semantic query and retrieves relevant chunks"
   ]
  },
  {
   "cell_type": "code",
   "execution_count": 9,
   "id": "1a6c8130-012d-499b-9c8b-624105e3ccc7",
   "metadata": {
    "tags": []
   },
   "outputs": [
    {
     "name": "stdout",
     "output_type": "stream",
     "text": [
      "🚀 Initializing RequirementRetrieverBQ with embedding model: text-embedding-005\n"
     ]
    },
    {
     "name": "stderr",
     "output_type": "stream",
     "text": [
      "/opt/conda/lib/python3.10/site-packages/vertexai/_model_garden/_model_garden_models.py:278: UserWarning: This feature is deprecated as of June 24, 2025 and will be removed on June 24, 2026. For details, see https://cloud.google.com/vertex-ai/generative-ai/docs/deprecations/genai-vertexai-sdk.\n",
      "  warning_logs.show_deprecation_warning()\n"
     ]
    },
    {
     "name": "stdout",
     "output_type": "stream",
     "text": [
      "✅ Dataset healthcare_requirements already exists.\n",
      "✅ Table second-sandbox-470608-m2.healthcare_requirements.req_chunks already exists.\n",
      "📦 Preparing to embed and insert 231 requirement chunks...\n",
      "📄 Processing file: data/EHR-reqs.docx with 130 chunks\n",
      "📄 Processing file: data/Common_InsuranceReqs_FINAL.pdf with 101 chunks\n",
      "📝 Inserting batch of 200 rows into second-sandbox-470608-m2.healthcare_requirements.req_chunks...\n",
      "✅ Successfully inserted 200 rows.\n",
      "📝 Inserting batch of 31 rows into second-sandbox-470608-m2.healthcare_requirements.req_chunks...\n",
      "✅ Successfully inserted 31 rows.\n",
      "✅ Finished inserting 231 requirement chunks into BigQuery.\n",
      "🔍 Running semantic search for query: How does the system store patient vitals?\n",
      "📡 Retrieved 1599 rows from BigQuery, computing similarity in Python...\n",
      "[data/EHR-reqs.docx | Chunk 25 | Score: 0.6824]\n",
      "(below called the EHR system)\n",
      "---\n",
      "[data/EHR-reqs.docx | Chunk 300 | Score: 0.6635]\n",
      "Data source:\tSome are recorded during a clinical session; others are imported from an external system, e.g. lab results.\n",
      "---\n",
      "[data/EHR-reqs.docx | Chunk 24 | Score: 0.6579]\n",
      "Electronic Health Record System\n",
      "---\n"
     ]
    }
   ],
   "source": [
    "\n",
    "import retriever_bq\n",
    "importlib.reload(retriever_bq)\n",
    "from retriever_bq import RequirementRetrieverBQ\n",
    "\n",
    "retriever = RequirementRetrieverBQ(\n",
    "    dataset_id=\"healthcare_requirements\",\n",
    "    table_id=\"req_chunks\",\n",
    "    embedding_model=\"text-embedding-005\"\n",
    ")\n",
    "\n",
    "retriever.add_requirements(parsed_results, batch_size=200)\n",
    "\n",
    "\n",
    "query = \"How does the system store patient vitals?\"\n",
    "\n",
    "# Fast Python-side similarity\n",
    "results = retriever.search(query, top_k=3, use_bq_vectors=False)\n",
    "\n",
    "for row in results:\n",
    "    print(f\"[{row.filename} | Chunk {row.chunk_id} | Score: {row.similarity:.4f}]\")\n",
    "    print(row.requirement_text)\n",
    "    print(\"---\")\n",
    "\n"
   ]
  },
  {
   "cell_type": "markdown",
   "id": "1aff4f78-8133-4664-9340-4740e0be638f",
   "metadata": {},
   "source": [
    "## Requirement Understanding Layer (LangChain Chains)"
   ]
  },
  {
   "cell_type": "markdown",
   "id": "842983a9-e95c-4d88-b154-4c983c527ed5",
   "metadata": {},
   "source": [
    "#### Chain multi-step LLM calls:\n",
    "- 1. Classifier → functional / non-functional / regulatory.\n",
    "- 2. Compliance Mapper → tags (FDA, IEC, ISO).\n",
    "- 3. Risk Analyzer → identifies High/Medium/Low impact.\n"
   ]
  },
  {
   "cell_type": "code",
   "execution_count": 24,
   "id": "703340bb-96a8-40f6-8bcd-3e75a1585314",
   "metadata": {
    "tags": []
   },
   "outputs": [
    {
     "name": "stdout",
     "output_type": "stream",
     "text": [
      "{'type': 'Regulatory', 'priority': 'High', 'compliance_tags': ['FDA 21 CFR Part 11', 'HIPAA'], 'traceability_id': 'a1b2c3d4-e5f6-7890-1234-567890abcdef'}\n"
     ]
    }
   ],
   "source": [
    "import requirement_understanding\n",
    "importlib.reload(requirement_understanding)\n",
    "from requirement_understanding import RequirementUnderstanding\n",
    "\n",
    "understander = RequirementUnderstanding(model=\"gemini-2.5-pro\")\n",
    "# understander = RequirementUnderstanding()\n",
    "\n",
    "req = \"The EHR system shall securely store patient vitals for 10 years to comply with FDA regulations.\"\n",
    "result = understander.analyze(req)\n",
    "\n",
    "print(result)\n",
    "\n"
   ]
  },
  {
   "cell_type": "markdown",
   "id": "61cb8b29-4327-4a67-b3ce-b059000223ec",
   "metadata": {},
   "source": [
    "### Test Case Generation Layer (LangChain LLMChain)"
   ]
  },
  {
   "cell_type": "markdown",
   "id": "02c0177d-c64d-4b71-ba71-fd18f58c3ec5",
   "metadata": {
    "tags": []
   },
   "source": [
    "Whats expected\n",
    "\n",
    "✅ Clear description of the test case.\n",
    "\n",
    "✅ Step-by-step procedural steps.\n",
    "\n",
    "✅ Expected results spelled out in compliance terms.\n",
    "\n",
    "✅ Proper traceability link back to the requirement."
   ]
  },
  {
   "cell_type": "code",
   "execution_count": 33,
   "id": "30e42814-21ec-4f40-828d-6b4bcaac3bd6",
   "metadata": {
    "tags": []
   },
   "outputs": [
    {
     "name": "stdout",
     "output_type": "stream",
     "text": [
      "Positive Scenario: Verify that patient vitals are securely stored and retrievable within the 10-year retention period.\n",
      "Steps: ['Log in as a clinician.', 'Select a test patient record.', 'Enter and save a new set of patient vitals (e.g., Blood Pressure: 120/80, Heart Rate: 70 bpm).', 'Simulate the passage of 5 years using a system time manipulation tool.', 'Log in as an authorized user (e.g., auditor).', \"Navigate to the same patient's record and attempt to retrieve the vitals entered 5 years ago.\"]\n",
      "Expected: ['The system successfully saves the vitals with an accurate timestamp.', 'The vitals are retrieved successfully and the data matches the originally entered data.', 'The system logs the access event in the audit trail, complying with HIPAA and FDA 21 CFR Part 11.']\n",
      "----\n",
      "Negative Scenario: Verify that an authorized user cannot permanently delete patient vitals before the 10-year retention period has passed.\n",
      "Steps: ['Log in as a system administrator with high-level privileges.', 'Select a patient record with vitals that were recorded 3 years ago.', 'Attempt to execute a hard delete/purge command on this specific vitals record.']\n",
      "Expected: ['The system prevents the deletion and displays an error message indicating the action violates the data retention policy.', \"The vitals record remains intact and accessible in the patient's chart.\", 'The system logs the failed deletion attempt in the security audit trail.']\n",
      "----\n",
      "Edge Case: Verify the system's data purge/archival behavior immediately after the 10-year retention period expires.\n",
      "Steps: ['Create a patient vitals record with a specific timestamp.', \"Using a system time manipulation tool, advance the system clock by 10 years and 1 day from the record's timestamp.\", 'Log in as a data retention manager.', 'Execute the automated data purge/archival job that targets records older than the 10-year retention period.', 'Attempt to retrieve the original vitals record from the active database.']\n",
      "Expected: ['The automated purge job successfully identifies and processes the record that is now older than 10 years.', 'An attempt to retrieve the original record from the active database fails or indicates that the data has been archived.', \"The purge/archival action is logged in the system's audit trail.\"]\n",
      "----\n"
     ]
    }
   ],
   "source": [
    "import test_case_generator\n",
    "importlib.reload(test_case_generator)\n",
    "from test_case_generator import TestCaseGenerator\n",
    "\n",
    "generator = TestCaseGenerator(model=\"gemini-2.5-pro\")\n",
    "\n",
    "\n",
    "req = \"The EHR system shall securely store patient vitals for 10 years to comply with FDA regulations.\"\n",
    "metadata = {\n",
    "    \"type\": \"Regulatory\",\n",
    "    \"priority\": \"High\",\n",
    "    \"compliance_tags\": [\"FDA 21 CFR Part 11\", \"HIPAA\"],\n",
    "    \"traceability_id\": \"a1b2c3d4-e5f6-7890-1234-567890abcdef\"\n",
    "}\n",
    "\n",
    "test_cases = generator.generate_test_cases(req, metadata)\n",
    "\n",
    "for tc in test_cases:\n",
    "    print(tc[\"description\"])\n",
    "    print(\"Steps:\", tc[\"steps\"])\n",
    "    print(\"Expected:\", tc[\"expected_result\"])\n",
    "    print(\"----\")\n",
    "\n"
   ]
  },
  {
   "cell_type": "code",
   "execution_count": null,
   "id": "cd08af4c-3015-4e7f-a591-06731e4f9aa8",
   "metadata": {},
   "outputs": [],
   "source": []
  },
  {
   "cell_type": "code",
   "execution_count": null,
   "id": "d1024080-aab0-4209-a58f-aa667cefb118",
   "metadata": {},
   "outputs": [],
   "source": []
  }
 ],
 "metadata": {
  "environment": {
   "kernel": "conda-base-py",
   "name": "workbench-notebooks.m132",
   "type": "gcloud",
   "uri": "us-docker.pkg.dev/deeplearning-platform-release/gcr.io/workbench-notebooks:m132"
  },
  "kernelspec": {
   "display_name": "Python 3 (ipykernel)",
   "language": "python",
   "name": "conda-base-py"
  },
  "language_info": {
   "codemirror_mode": {
    "name": "ipython",
    "version": 3
   },
   "file_extension": ".py",
   "mimetype": "text/x-python",
   "name": "python",
   "nbconvert_exporter": "python",
   "pygments_lexer": "ipython3",
   "version": "3.10.18"
  }
 },
 "nbformat": 4,
 "nbformat_minor": 5
}
